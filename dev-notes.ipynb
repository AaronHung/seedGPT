{
 "cells": [
  {
   "cell_type": "markdown",
   "id": "8d73bdb6",
   "metadata": {},
   "source": [
    "## 🪴 seedGPT\n",
    "\n",
    "**A seed-sized, Pythonic GPT-2 implementation from scratch.**  \n",
    "No frameworks. No frills. Just pure attention.\n",
    "\n",
    "> _\"Every forest begins with a seed.\"_  \n",
    "> `seedGPT` is a minimal yet faithful implementation of the GPT-2 architecture, handcrafted from the ground up using vanilla Python and PyTorch.  \n",
    "> It's designed as a **starting point** — to learn, experiment, and grow your own language model ecosystem.\n",
    "\n",
    "---\n",
    "\n",
    "### 🌱 Highlights\n",
    "\n",
    "- GPT-2 style Transformer decoder\n",
    "- Clean training and inference loops\n",
    "- From scratch, no external GPT libraries\n",
    "- Ideal for beginners, researchers, and tinkerers\n",
    "\n",
    "---\n",
    "\n",
    "- Aaron Hung\n"
   ]
  },
  {
   "cell_type": "markdown",
   "id": "1f08e3a2",
   "metadata": {},
   "source": []
  }
 ],
 "metadata": {
  "kernelspec": {
   "display_name": "ludwig-llm",
   "language": "python",
   "name": "ludwig-llm"
  },
  "language_info": {
   "name": "python",
   "version": "3.11.9"
  }
 },
 "nbformat": 4,
 "nbformat_minor": 5
}
