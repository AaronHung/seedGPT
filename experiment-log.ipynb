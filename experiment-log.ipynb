{
 "cells": [
  {
   "cell_type": "markdown",
   "id": "a4dba073",
   "metadata": {},
   "source": [
    "## Verify MPS"
   ]
  },
  {
   "cell_type": "markdown",
   "id": "44356bb8",
   "metadata": {},
   "source": [
    "### 1. Check PyTorch version and MPS availability"
   ]
  },
  {
   "cell_type": "code",
   "execution_count": 1,
   "id": "23ee3ad4",
   "metadata": {},
   "outputs": [
    {
     "name": "stdout",
     "output_type": "stream",
     "text": [
      "PyTorch version: 2.6.0\n",
      "MPS available: True\n",
      "MPS built: True\n"
     ]
    }
   ],
   "source": [
    "import torch \n",
    "\n",
    "print(\"PyTorch version:\", torch.__version__)\n",
    "print(\"MPS available:\", torch.backends.mps.is_available())\n",
    "print(\"MPS built:\", torch.backends.mps.is_built())"
   ]
  },
  {
   "cell_type": "markdown",
   "id": "f2aa5526",
   "metadata": {},
   "source": [
    "### 2. Set the device and run a quick tensor operation"
   ]
  },
  {
   "cell_type": "code",
   "execution_count": 2,
   "id": "6ed2a6df",
   "metadata": {},
   "outputs": [
    {
     "data": {
      "text/plain": [
       "device(type='mps')"
      ]
     },
     "execution_count": 2,
     "metadata": {},
     "output_type": "execute_result"
    }
   ],
   "source": [
    "if torch.backends.mps.is_available():\n",
    "    device = torch.device(\"mps\")\n",
    "else:\n",
    "    device = torch.device(\"cpu\")\n",
    "\n",
    "device"
   ]
  },
  {
   "cell_type": "code",
   "execution_count": 4,
   "id": "b1479aec",
   "metadata": {},
   "outputs": [
    {
     "name": "stdout",
     "output_type": "stream",
     "text": [
      "Device mps:0\n",
      "tensor([[1.3968, 1.5051, 1.4588],\n",
      "        [1.0682, 0.8433, 0.5817],\n",
      "        [1.2035, 0.1876, 1.8197]], device='mps:0')\n"
     ]
    }
   ],
   "source": [
    "if torch.backends.mps.is_available():\n",
    "    device = torch.device('mps')\n",
    "else:\n",
    "    device = torch.device('cpu')\n",
    "\n",
    "# Create a tensor and send to MPS\n",
    "x = torch.rand(3, 3).to(device)\n",
    "y = torch.rand(3, 3).to(device)\n",
    "z = x + y\n",
    "\n",
    "print(\"Device\", x.device)\n",
    "print(z)"
   ]
  },
  {
   "cell_type": "markdown",
   "id": "dc8634d6",
   "metadata": {},
   "source": [
    "### 3. Test a mini model with MPS"
   ]
  },
  {
   "cell_type": "code",
   "execution_count": 5,
   "id": "f3155496",
   "metadata": {},
   "outputs": [
    {
     "name": "stdout",
     "output_type": "stream",
     "text": [
      "Output shape: torch.Size([2, 5])\n"
     ]
    }
   ],
   "source": [
    "model = torch.nn.Linear(10, 5).to(device)\n",
    "input = torch.randn(2, 10).to(device)\n",
    "output = model(input)\n",
    "print(\"Output shape:\", output.shape)"
   ]
  },
  {
   "cell_type": "markdown",
   "id": "aa6f3156",
   "metadata": {},
   "source": [
    "### 4. Notes"
   ]
  },
  {
   "cell_type": "markdown",
   "id": "8124a775",
   "metadata": {},
   "source": [
    "> - On MPS, certian features (like half-precision) are **not supported**\n",
    "> - MPS doesn't currently support full multi-GPU or some advanced ops (eg. in-place operatioons may be restricted)\n",
    "> - For larger workloads, MPS is slower than CUDA but still very useful for local dev on Mac"
   ]
  },
  {
   "cell_type": "markdown",
   "id": "2a1f3e4b",
   "metadata": {},
   "source": []
  }
 ],
 "metadata": {
  "kernelspec": {
   "display_name": "llm-scratch",
   "language": "python",
   "name": "llm-scratch"
  },
  "language_info": {
   "codemirror_mode": {
    "name": "ipython",
    "version": 3
   },
   "file_extension": ".py",
   "mimetype": "text/x-python",
   "name": "python",
   "nbconvert_exporter": "python",
   "pygments_lexer": "ipython3",
   "version": "3.11.12"
  }
 },
 "nbformat": 4,
 "nbformat_minor": 5
}
